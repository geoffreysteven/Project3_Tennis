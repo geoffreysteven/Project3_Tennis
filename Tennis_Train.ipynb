{
 "cells": [
  {
   "cell_type": "markdown",
   "metadata": {},
   "source": [
    "# Collaboration and Competition: Project #3 Tennis\n",
    "\n",
    "\n",
    "##  Udacity - Reinforcement Learning Nanodegree\n",
    "### Student: Geoffey Shmigelsky\n",
    "---\n",
    "\n",
    "In this notebook, you will learn how to use the Unity ML-Agents environment for the second project of the [Deep Reinforcement Learning Nanodegree](https://www.udacity.com/course/deep-reinforcement-learning-nanodegree--nd893).\n",
    "\n",
    "The purpose of the project is to train a Deep Learning on a Unity built Tennis environment. The idea is to have two agents play a game of tennis.\n",
    "\n",
    "There are 24 dimenions of input and 2 continuous actions per agent. The agent is tasked with acheiving a maxed score of +0.5 averaged over 100 episodes.\n",
    "\n",
    "\n",
    "### Sample output from a Trained Agent\n",
    "\n",
    "![Sample Agent](tennis_image.png)\n",
    "\n",
    "### Acknowledgements\n",
    "\n",
    "As per the instructions for the project, much of the code is copied from the Pendulum DDPG project in the Deep Reinforcement Learning class folder, originally used in Project #2:\n",
    "\n",
    "https://github.com/udacity/deep-reinforcement-learning"
   ]
  },
  {
   "cell_type": "markdown",
   "metadata": {},
   "source": [
    "## Required\n",
    "\n",
    "This project requires:\n",
    "\n",
    "1. Numpy\n",
    "2. Torch \n",
    "3. MatplotLib\n",
    "4. Python Kernal and UnityEnvironment provided by Udacity\n"
   ]
  },
  {
   "cell_type": "markdown",
   "metadata": {},
   "source": [
    "## Resources\n",
    "Continuous control deep reinforcement learning: \n",
    "https://arxiv.org/abs/1509.02971\n",
    "\n",
    "Benchmarking Deep Reinforcement Learning Continuous Control: \n",
    "https://arxiv.org/abs/1604.06778\n",
    "        \n"
   ]
  },
  {
   "cell_type": "markdown",
   "metadata": {},
   "source": [
    "### 1. Start the Environment\n",
    "\n",
    "We begin by importing  necessary packages.  If the code cell below returns an error, please revisit the project instructions to double-check that you have installed [Unity ML-Agents](https://github.com/Unity-Technologies/ml-agents/blob/master/docs/Installation.md) and [NumPy](http://www.numpy.org/)."
   ]
  },
  {
   "cell_type": "code",
   "execution_count": 1,
   "metadata": {},
   "outputs": [],
   "source": [
    "from unityagents import UnityEnvironment\n",
    "import numpy as np\n",
    "\n",
    "import gym\n",
    "import random\n",
    "import torch\n",
    "\n",
    "import time\n",
    "from collections import deque\n",
    "import matplotlib.pyplot as plt\n",
    "%matplotlib inline\n",
    "\n",
    "from ddpg_agent import Agent\n"
   ]
  },
  {
   "cell_type": "markdown",
   "metadata": {},
   "source": [
    "### 2. It's Your Turn!\n",
    "\n",
    "Now it's your turn to train your own agent to solve the environment!  When training the environment, set `train_mode=True`, so that the line for resetting the environment looks like the following:\n",
    "```python\n",
    "env_info = env.reset(train_mode=True)[brain_name]\n",
    "```"
   ]
  },
  {
   "cell_type": "markdown",
   "metadata": {},
   "source": [
    "## Tennis Challenge\n",
    "\n",
    "The Tennis.app is a Unity based game simulation. \n",
    "\n",
    "The purpose of the game is to move two tennis players so they can lob a ball back and force over a net.\n",
    "\n",
    "It is a complex challenge where tennis rackets must coordinate their efforts.\n",
    "\n",
    "The goal of the game is get to score of 0.50. If the agents can acheive an average score of 0.50 over 100 episodes, that is considered success.\n",
    "\n"
   ]
  },
  {
   "cell_type": "code",
   "execution_count": 2,
   "metadata": {},
   "outputs": [
    {
     "name": "stderr",
     "output_type": "stream",
     "text": [
      "INFO:unityagents:\n",
      "'Academy' started successfully!\n",
      "Unity Academy name: Academy\n",
      "        Number of Brains: 1\n",
      "        Number of External Brains : 1\n",
      "        Lesson number : 0\n",
      "        Reset Parameters :\n",
      "\t\t\n",
      "Unity brain name: TennisBrain\n",
      "        Number of Visual Observations (per agent): 0\n",
      "        Vector Observation space type: continuous\n",
      "        Vector Observation space size (per agent): 8\n",
      "        Number of stacked Vector Observation: 3\n",
      "        Vector Action space type: continuous\n",
      "        Vector Action space size (per agent): 2\n",
      "        Vector Action descriptions: , \n"
     ]
    }
   ],
   "source": [
    "# Mac\n",
    "# file_name='Envs/Apple.app'\n",
    "\n",
    "# Windows\n",
    "# file_name = 'Envs/Linux/Tennis.x86_64'\n",
    "\n",
    "# Linux with Visualization\n",
    "# file_name = 'Envs/Windows/Tennis.x86_64'\n",
    "\n",
    "# Linux No Visualization\n",
    "file_name = 'Envs/Linux_NoVis/Tennis.x86_64'\n",
    "\n",
    "# setup the environment - \n",
    "env = UnityEnvironment(file_name=file_name) \n",
    "\n",
    "# Get the default brain\n",
    "brain_name = env.brain_names[0]\n",
    "brain = env.brains[brain_name]\n",
    "\n",
    "# Reset the game state\n",
    "env_info = env.reset(train_mode=True)[brain_name]"
   ]
  },
  {
   "cell_type": "markdown",
   "metadata": {},
   "source": [
    "## Game Mechanics\n",
    "\n",
    "The Tennis challenge is non-trival environment. \n",
    "\n",
    "The action space consists of two (2) continuous actions to control movement of two (2) tennis rackets.\n",
    "\n",
    "The state space considers of 24 continous or discrete dimensions. What each of the dimensions mean is unknown. \n",
    "\n",
    "For the purpose of the learner (agent), not knowing what the state dimenensions or the actions mean is the whole point. The agent's task is to learn what action to take when, by experiencing trial and error. "
   ]
  },
  {
   "cell_type": "code",
   "execution_count": 3,
   "metadata": {},
   "outputs": [],
   "source": [
    "def explain(name, data, detail=True):\n",
    "    print('-' * 10, name, '-' * 10)\n",
    "    if isinstance(data, np.ndarray):\n",
    "        print(\"Shape of numpy array:\", data.shape)\n",
    "    elif isinstance(data, list):\n",
    "        print(\"Type: {}, Length: {}\".format(type(data), len(data)))\n",
    "    else:\n",
    "        print(\"Type: {}, {}\", format(type(data), data))\n",
    "        \n",
    "    if detail: \n",
    "        print(data)\n",
    "    print()\n",
    "    "
   ]
  },
  {
   "cell_type": "code",
   "execution_count": 4,
   "metadata": {},
   "outputs": [
    {
     "name": "stdout",
     "output_type": "stream",
     "text": [
      "Environment      :  Envs/Linux_NoVis/Tennis.x86_64\n",
      "Number of agents :  2\n",
      "Number of actions:  2\n",
      "Number of states :  24\n",
      "\n",
      "---------- Env Agents ----------\n",
      "Type: <class 'list'>, Length: 2\n",
      "[942, 952]\n",
      "\n",
      "---------- Env Actions Vector ----------\n",
      "Shape of numpy array: (2, 2)\n",
      "\n",
      "---------- Env Single Agent's Actions 0 ----------\n",
      "Shape of numpy array: (2,)\n",
      "[0. 0.]\n",
      "\n",
      "---------- Env Single Agent's Actions 1 ----------\n",
      "Shape of numpy array: (2,)\n",
      "[0. 0.]\n",
      "\n",
      "---------- Env States ----------\n",
      "Shape of numpy array: (2, 24)\n",
      "\n",
      "---------- Env Single Agent State 0 ----------\n",
      "Shape of numpy array: (24,)\n",
      "[ 0.          0.          0.          0.          0.          0.\n",
      "  0.          0.          0.          0.          0.          0.\n",
      "  0.          0.          0.          0.         -6.65278625 -1.5\n",
      " -0.          0.          6.83172083  6.         -0.          0.        ]\n",
      "\n",
      "---------- Env Single Agent State : ----------\n",
      "Shape of numpy array: (24,)\n",
      "[ 0.          0.          0.          0.          0.          0.\n",
      "  0.          0.          0.          0.          0.          0.\n",
      "  0.          0.          0.          0.         -6.4669857  -1.5\n",
      "  0.          0.         -6.83172083  6.          0.          0.        ]\n",
      "\n",
      "---------- Env Rewards ----------\n",
      "Type: <class 'list'>, Length: 2\n",
      "[0.0, 0.0]\n",
      "\n",
      "---------- Env Dones ----------\n",
      "Type: <class 'list'>, Length: 2\n",
      "[False, False]\n",
      "\n"
     ]
    }
   ],
   "source": [
    "# environment parameters\n",
    "num_agents = len(env_info.agents)\n",
    "action_size = brain.vector_action_space_size \n",
    "state_size = env_info.vector_observations.shape[1]\n",
    "\n",
    "print(\"Environment      : \", file_name)\n",
    "print(\"Number of agents : \", num_agents)\n",
    "print(\"Number of actions: \", action_size)\n",
    "print(\"Number of states : \", state_size)\n",
    "print()\n",
    "\n",
    "# Agents space\n",
    "explain(\"Env Agents\", env_info.agents, detail=True)\n",
    "\n",
    "# Actions vector space\n",
    "explain(\"Env Actions Vector\", env_info.previous_vector_actions, detail=False)\n",
    "\n",
    "# Single Action\n",
    "explain(\"Env Single Agent's Actions 0\", env_info.previous_vector_actions[0])\n",
    "explain(\"Env Single Agent's Actions 1\", env_info.previous_vector_actions[1])\n",
    "\n",
    "# States space\n",
    "explain(\"Env States\", env_info.vector_observations, detail=False) \n",
    "\n",
    "# Single Statenum_agents\n",
    "explain(\"Env Single Agent State 0\", env_info.vector_observations[0])\n",
    "explain(\"Env Single Agent State :\", env_info.vector_observations[1])\n",
    "\n",
    "# Reward space\n",
    "explain(\"Env Rewards\", env_info.rewards)      \n",
    "\n",
    "# Done space\n",
    "explain(\"Env Dones\", env_info.local_done)\n",
    "\n"
   ]
  },
  {
   "cell_type": "markdown",
   "metadata": {},
   "source": [
    "## DDPG Agent\n",
    "\n",
    "The DDPG Agent will iterate over episodes until the goal is reached. The goal is an average score greater or equal to 0.5 averaged ver 100 episodes; averaged over all robotic arms.\n",
    "\n",
    "The DDPG function differs from most reinforcement learning OpenAI loops in the the (state, reward, next state, done) has to be manually extracted from the environment.\n",
    "\n",
    "Training is done through a batch process, every 20 iterations 10 training sessions are invoked."
   ]
  },
  {
   "cell_type": "code",
   "execution_count": 5,
   "metadata": {},
   "outputs": [],
   "source": [
    "def maddpg(env, agent, num_agents, state_size, action_size, target_score, num_episodes=2500, num_tries=1000, print_every=50):\n",
    "    scores_deque = deque(maxlen=100) \n",
    "    scores_history = []\n",
    "    scores_both = []\n",
    "    time_history = []\n",
    "    solved_count = 0\n",
    "    solved_flag = False\n",
    "    \n",
    "    # itterate over number of episodes\n",
    "    for e in range(num_episodes):\n",
    "        # reset environment and agent\n",
    "        env_info = env.reset(train_mode=True)[brain_name]      # reset the environment    \n",
    "        states = env_info.vector_observations                  # get the current state (for each agent)\n",
    "        actions = np.zeros((num_agents, action_size))          # initialize the action space (for each agent)\n",
    "        scores = np.zeros(num_agents)                          # initialize the score (for each agent)\n",
    "        agent.reset()\n",
    "\n",
    "        start_time = time.time()\n",
    "        \n",
    "        # itterate over the number of tries\n",
    "        for t in range(num_tries):\n",
    "            # choose an action\n",
    "            actions = agent.act(states)\n",
    "            \n",
    "            # take an action\n",
    "            env_info = env.step(actions)[brain_name]           # send all actions to tne environment\n",
    "            \n",
    "            # S,A,R,S result\n",
    "            next_states = env_info.vector_observations         # get next state (for each agent)\n",
    "            rewards = env_info.rewards                         # get reward (for each agent)\n",
    "            dones = env_info.local_done                        # see if an episode finished\n",
    "\n",
    "            # update the agent's history\n",
    "            for s,a,r,ns,d in zip(states, actions, rewards, next_states, dones):\n",
    "                agent.step(s,a,r,ns,d)\n",
    "\n",
    "            # train the agent in batches, 10 times after 20 timesteps - Attempt #4 class notes\n",
    "            if t % 20 == 0:\n",
    "                for _ in range(10):\n",
    "                    agent.learn_batch()\n",
    "               \n",
    "            # track scores, itterate to next step\n",
    "            scores += env_info.rewards                         # update the score (for each agent)\n",
    "            states = next_states                               # roll over states to the next step\n",
    "            \n",
    "            if np.any(dones):\n",
    "                break\n",
    "        \n",
    "        # track how long each episode takes\n",
    "        end_time = time.time()\n",
    "        duration = end_time - start_time\n",
    "        time_history.append(duration)\n",
    "        \n",
    "        # compute max score for all agents and deque\n",
    "        max_score = np.max(scores) # this is the only change from Project 2 to Project 3\n",
    "        scores_history.append(max_score)\n",
    "\n",
    "        scores_both.append(scores)\n",
    "        \n",
    "        scores_deque.append(max_score)\n",
    "        mean_deque =  np.mean(scores_deque)\n",
    "        \n",
    "        # save for plotting\n",
    "        np.savetxt('scores_max.txt', scores_history, fmt='%f')\n",
    "        np.savetxt('scores_both.txt', scores_both, fmt='%f')        \n",
    "        np.savetxt('time.txt', time_history, fmt='%f')\n",
    "        \n",
    "        # report\n",
    "        end = \"\\n\" if e % print_every == 0 else \"\"\n",
    "        print('\\rEpisode: {:3d}\\tMax Agents Score: {:2.2f}\\t Deque Score: {:2.2f}\\t Time: {:2.1f} seconds'.format(e, max_score, mean_deque, duration), end=end)\n",
    "        \n",
    "        # announce game solved and continue for more steps for graphing \n",
    "        if mean_deque >= target_score and solved_flag == False and e >= 100:\n",
    "            print(\"\\n\\n=== SOLVED === at episode {:3d} with score {:.2f}\\n\".format(e, mean_deque))\n",
    "            \n",
    "            # save agent for demonstrationformat(e, mean_score, mean_deque, duration\n",
    "            torch.save(agent.actor_local.state_dict(), 'checkpoint_actor.pth')\n",
    "            torch.save(agent.critic_local.state_dict(), 'checkpoint_critic.pth')               \n",
    "            \n",
    "            solved_flag = True\n",
    "          \n",
    "        if solved_flag: \n",
    "            solved_count += 1\n",
    "            \n",
    "        # continue past winning to see if it is still stable            \n",
    "        if solved_flag and solved_count > 500:\n",
    "            break         \n",
    "        \n",
    "    print()\n",
    "        \n",
    "    return scores_history, time_history            \n",
    "\n"
   ]
  },
  {
   "cell_type": "markdown",
   "metadata": {},
   "source": [
    "## Run the Training Process\n",
    "\n",
    "First create an agent with meta parameters as need.\n",
    "\n",
    "Second, run the training maddpg function. It will train until the target_score is reached. \n",
    "\n",
    "Finally, the scores are save to disk.\n",
    "\n",
    "The trained model is also saved as checkpoint.pth for both the actor and critic."
   ]
  },
  {
   "cell_type": "code",
   "execution_count": 6,
   "metadata": {},
   "outputs": [
    {
     "name": "stdout",
     "output_type": "stream",
     "text": [
      "CUDA Torch       :  True\n",
      "Environment      :  Envs/Linux_NoVis/Tennis.x86_64\n",
      "Number of agents :  2\n",
      "Number of actions:  2\n",
      "Number of states :  24\n",
      "\n",
      "Episode:   0\tMax Agents Score: 0.00\t Deque Score: 0.00\t Time: 0.1 seconds\n",
      "Episode:  13\tMax Agents Score: 0.10\t Deque Score: 0.01\t Time: 0.0 seconds"
     ]
    },
    {
     "name": "stderr",
     "output_type": "stream",
     "text": [
      "/home/geoffrey/Dropbox/RLND/Project3/ddpg_agent.py:106: UserWarning: torch.nn.utils.clip_grad_norm is now deprecated in favor of torch.nn.utils.clip_grad_norm_.\n",
      "  torch.nn.utils.clip_grad_norm(self.critic_local.parameters(), 1)\n"
     ]
    },
    {
     "name": "stdout",
     "output_type": "stream",
     "text": [
      "Episode:  50\tMax Agents Score: 0.00\t Deque Score: 0.01\t Time: 0.1 seconds\n",
      "Episode: 100\tMax Agents Score: 0.00\t Deque Score: 0.00\t Time: 0.1 seconds\n",
      "Episode: 150\tMax Agents Score: 0.00\t Deque Score: 0.00\t Time: 0.1 seconds\n",
      "Episode: 200\tMax Agents Score: 0.10\t Deque Score: 0.02\t Time: 0.2 seconds\n",
      "Episode: 250\tMax Agents Score: 0.00\t Deque Score: 0.02\t Time: 0.1 seconds\n",
      "Episode: 300\tMax Agents Score: 0.00\t Deque Score: 0.01\t Time: 0.1 seconds\n",
      "Episode: 350\tMax Agents Score: 0.00\t Deque Score: 0.01\t Time: 0.1 seconds\n",
      "Episode: 400\tMax Agents Score: 0.10\t Deque Score: 0.03\t Time: 0.2 seconds\n",
      "Episode: 450\tMax Agents Score: 0.00\t Deque Score: 0.05\t Time: 0.1 seconds\n",
      "Episode: 500\tMax Agents Score: 0.10\t Deque Score: 0.05\t Time: 0.2 seconds\n",
      "Episode: 550\tMax Agents Score: 0.00\t Deque Score: 0.03\t Time: 0.1 seconds\n",
      "Episode: 600\tMax Agents Score: 0.00\t Deque Score: 0.00\t Time: 0.1 seconds\n",
      "Episode: 650\tMax Agents Score: 0.10\t Deque Score: 0.03\t Time: 0.2 seconds\n",
      "Episode: 700\tMax Agents Score: 0.10\t Deque Score: 0.05\t Time: 0.2 seconds\n",
      "Episode: 750\tMax Agents Score: 0.30\t Deque Score: 0.10\t Time: 0.7 seconds\n",
      "Episode: 800\tMax Agents Score: 0.40\t Deque Score: 0.22\t Time: 1.0 seconds\n",
      "Episode: 850\tMax Agents Score: 0.09\t Deque Score: 0.26\t Time: 0.2 seconds\n",
      "Episode: 900\tMax Agents Score: 0.19\t Deque Score: 0.18\t Time: 0.5 seconds\n",
      "Episode: 950\tMax Agents Score: 1.90\t Deque Score: 0.31\t Time: 4.5 seconds\n",
      "Episode: 973\tMax Agents Score: 1.50\t Deque Score: 0.50\t Time: 3.8 seconds\n",
      "\n",
      "=== SOLVED === at episode 973 with score 0.50\n",
      "\n",
      "Episode: 1000\tMax Agents Score: 2.20\t Deque Score: 0.77\t Time: 5.4 seconds\n",
      "Episode: 1050\tMax Agents Score: 2.60\t Deque Score: 1.05\t Time: 6.8 seconds\n",
      "Episode: 1100\tMax Agents Score: 1.20\t Deque Score: 0.76\t Time: 3.4 seconds\n",
      "Episode: 1150\tMax Agents Score: 0.10\t Deque Score: 0.55\t Time: 0.6 seconds\n",
      "Episode: 1200\tMax Agents Score: 0.20\t Deque Score: 0.60\t Time: 0.8 seconds\n",
      "Episode: 1250\tMax Agents Score: 0.40\t Deque Score: 0.72\t Time: 1.4 seconds\n",
      "Episode: 1300\tMax Agents Score: 0.29\t Deque Score: 0.74\t Time: 1.0 seconds\n",
      "Episode: 1350\tMax Agents Score: 0.09\t Deque Score: 0.53\t Time: 0.3 seconds\n",
      "Episode: 1400\tMax Agents Score: 2.20\t Deque Score: 0.44\t Time: 7.2 seconds\n",
      "Episode: 1450\tMax Agents Score: 0.90\t Deque Score: 0.50\t Time: 3.4 seconds\n",
      "Episode: 1473\tMax Agents Score: 0.60\t Deque Score: 0.49\t Time: 2.2 seconds\n",
      "CPU times: user 18min 41s, sys: 1min 30s, total: 20min 11s\n",
      "Wall time: 21min 54s\n"
     ]
    }
   ],
   "source": [
    "print(\"CUDA Torch       : \", torch.cuda.is_available())\n",
    "print(\"Environment      : \", file_name)\n",
    "print(\"Number of agents : \", num_agents)\n",
    "print(\"Number of actions: \", action_size)\n",
    "print(\"Number of states : \", state_size)\n",
    "print()\n",
    "\n",
    "episodes = 2500\n",
    "tries = 1000\n",
    "target = 0.5\n",
    "seed = 42\n",
    "\n",
    "agent = Agent(state_size=state_size, action_size=action_size, random_seed=seed)\n",
    "\n",
    "%time _, _ = maddpg(env=env, agent=agent, num_agents=num_agents, \\\n",
    "                      target_score=target, \\\n",
    "                      state_size=state_size, action_size=action_size, \\\n",
    "                      num_episodes=episodes, num_tries=tries)\n"
   ]
  },
  {
   "cell_type": "code",
   "execution_count": 7,
   "metadata": {},
   "outputs": [],
   "source": [
    "env.close()"
   ]
  },
  {
   "cell_type": "markdown",
   "metadata": {},
   "source": [
    "## Plotting\n",
    "\n",
    "The plot will show key aspects of the learning process:\n",
    "\n",
    "Blue - Current episode score\n",
    "\n",
    "Orange - Target of 0.5\n",
    "\n",
    "Purple - Running average over all episodes\n",
    "\n",
    "Red - The key metric, the average score over 100 episodes"
   ]
  },
  {
   "cell_type": "code",
   "execution_count": 10,
   "metadata": {},
   "outputs": [
    {
     "data": {
      "image/png": "[encoded data removed]",
      "text/plain": [
       "<Figure size 432x288 with 1 Axes>"
      ]
     },
     "metadata": {
      "needs_background": "light"
     },
     "output_type": "display_data"
    }
   ],
   "source": [
    "# Plot Scores and Deque history\n",
    "\n",
    "scores = np.loadtxt('scores_max.txt', dtype=float)\n",
    "\n",
    "# computed 100 rolling average\n",
    "weights = np.ones(100) / 100      \n",
    "mean_100 = np.zeros(100)\n",
    "running_ave = np.zeros(len(scores))\n",
    "\n",
    "for i in range(1,100):\n",
    "    mean_100[i] = np.mean(scores[0:i])\n",
    "\n",
    "for i in range(1,len(scores)):\n",
    "    running_ave[i] = np.mean(scores[0:i])\n",
    "    \n",
    "mean_100[:] = np.NAN   \n",
    "mean_100 = np.append(mean_100, np.convolve(scores, weights, mode='valid'))\n",
    "\n",
    "# create a line showing target\n",
    "target_line = np.zeros(len(scores))\n",
    "target_line[:] = 0.5\n",
    "1\n",
    "# plot\n",
    "fig = plt.figure()\n",
    "ax = fig.add_subplot(111)\n",
    "plt.plot(np.arange(len(scores)), scores)\n",
    "plt.plot(np.arange(len(target_line)), target_line, color='orange', linewidth=2)\n",
    "plt.plot(np.arange(len(target_line)), running_ave, color='purple', linewidth=2)\n",
    "plt.plot(np.arange(len(mean_100)), mean_100, color='red', linewidth=3)\n",
    "\n",
    "plt.title(\"Target score is {}\".format(target))\n",
    "plt.ylabel('Score')\n",
    "plt.xlabel('Episode #')\n",
    "plt.show()\n"
   ]
  },
  {
   "cell_type": "code",
   "execution_count": 12,
   "metadata": {},
   "outputs": [
    {
     "data": {
      "image/png": "[encoded data removed]",
      "text/plain": [
       "<Figure size 432x288 with 1 Axes>"
      ]
     },
     "metadata": {
      "needs_background": "light"
     },
     "output_type": "display_data"
    }
   ],
   "source": [
    "# Plot time history\n",
    "\n",
    "times = np.loadtxt('time.txt', dtype=float)\n",
    "  \n",
    "fig = plt.figure()\n",
    "ax = fig.add_subplot(111)\n",
    "plt.plot(np.arange(len(times)), times, color='green', linewidth=2)\n",
    "\n",
    "plt.title(\"Time per Episode\")\n",
    "plt.ylabel('Seconds')\n",
    "plt.xlabel('Episode #')\n",
    "plt.show()\n"
   ]
  },
  {
   "cell_type": "code",
   "execution_count": 13,
   "metadata": {},
   "outputs": [],
   "source": []
  }
 ],
 "metadata": {
  "kernelspec": {
   "display_name": "drlnd",
   "language": "python",
   "name": "drlnd"
  },
  "language_info": {
   "codemirror_mode": {
    "name": "ipython",
    "version": 3
   },
   "file_extension": ".py",
   "mimetype": "text/x-python",
   "name": "python",
   "nbconvert_exporter": "python",
   "pygments_lexer": "ipython3",
   "version": "3.6.7"
  }
 },
 "nbformat": 4,
 "nbformat_minor": 2
}
